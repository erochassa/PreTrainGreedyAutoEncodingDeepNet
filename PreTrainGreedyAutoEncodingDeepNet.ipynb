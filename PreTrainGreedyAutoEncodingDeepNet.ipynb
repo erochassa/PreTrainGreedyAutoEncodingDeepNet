{
 "cells": [
  {
   "cell_type": "markdown",
   "metadata": {},
   "source": [
    "# Pretraining a deep network with shallow autoencoders\n",
    "\n",
    "This python notebook uses Tensorflow to ilustrates how a deep network can be pre-trained. This is based on the paper:\n",
    "\n",
    "Bengio, Yoshua, et al. \"Greedy layer-wise training of deep networks.\" *Advances in neural information processing systems*. 2007.\n",
    "\n",
    "Specificaly, I use **Algorithm 3** in that paper."
   ]
  },
  {
   "cell_type": "code",
   "execution_count": 1,
   "metadata": {},
   "outputs": [
    {
     "name": "stdout",
     "output_type": "stream",
     "text": [
      "Using matplotlib backend: TkAgg\n",
      "Populating the interactive namespace from numpy and matplotlib\n"
     ]
    }
   ],
   "source": [
    "import tensorflow as tf\n",
    "import numpy as np\n",
    "%pylab\n",
    "%matplotlib inline"
   ]
  },
  {
   "cell_type": "markdown",
   "metadata": {},
   "source": [
    "In order to test this, I use mnist:"
   ]
  },
  {
   "cell_type": "code",
   "execution_count": 2,
   "metadata": {},
   "outputs": [
    {
     "name": "stdout",
     "output_type": "stream",
     "text": [
      "Extracting MNIST_data/train-images-idx3-ubyte.gz\n",
      "Extracting MNIST_data/train-labels-idx1-ubyte.gz\n",
      "Extracting MNIST_data/t10k-images-idx3-ubyte.gz\n",
      "Extracting MNIST_data/t10k-labels-idx1-ubyte.gz\n"
     ]
    }
   ],
   "source": [
    "from tensorflow.examples.tutorials.mnist import input_data\n",
    "mnist = input_data.read_data_sets('MNIST_data', one_hot=True)"
   ]
  },
  {
   "cell_type": "markdown",
   "metadata": {},
   "source": [
    "You can adjust the number of steps in this cell. Here I have set it to 50,000 using full batch.\n",
    "The cost is defined in this paper:\n",
    "\n",
    "Vincent, Pascal, et al. \"Extracting and composing robust features with denoising autoencoders.\" *Proceedings of the 25th international conference on Machine learning.* ACM, 2008."
   ]
  },
  {
   "cell_type": "code",
   "execution_count": 3,
   "metadata": {
    "collapsed": true
   },
   "outputs": [],
   "source": [
    "NSTEPS=50000\n",
    "\n",
    "def cost(reconstructX, trueX):\n",
    "    '''\n",
    "    For definition of cost see Pascal Vincent et al, 2008 equations 2 and 3\n",
    "    '''\n",
    "    LH = - tf.reduce_sum(trueX * tf.log(reconstructX) + (1.0-trueX) * tf.log(1.0-reconstructX), axis=1)\n",
    "    return tf.reduce_mean(LH)\n",
    "\n",
    "def PreTrainGreedyAutoEncodingDeepNet(sess, x, xdata, alpha, n=[28*28, 512, 128, 64]):\n",
    "    '''\n",
    "    This function pre-train weights using shallow autoenconders as described by\n",
    "      Bengio et al 2007. Since this is a sequential procedure (i.e. later layers\n",
    "      use previous hidden layers as input), this function not only assembles the\n",
    "      graph but also runs the pre-training.\n",
    "    \n",
    "    sess  : session in which this network is been trained. Since this function \n",
    "            set the intial value of the weights, it is the one that calls\n",
    "            global_variables_initializer\n",
    "    x     : place holder for input data\n",
    "    xdata : actual data for training (full batch in this implementation)\n",
    "    alpha : learning rate\n",
    "    n     : list of hidden layers sizes\n",
    "    \n",
    "    returns Wi weights, bi biases for each level i, and the output of last\n",
    "      layer L. Wi and bi can be fine tuned for discrimination or deep autoencoding\n",
    "    '''\n",
    "    L = len(n)-1\n",
    "    b = [None] * len(n)\n",
    "    c = [None] * len(n)\n",
    "    W = [None] * len(n)\n",
    "    mu = [None] * len(n)\n",
    "    theta = [None] * len(n)\n",
    "    Cost = [None] * len(n)\n",
    "    \n",
    "    #b[0] = tf.Variable(tf.zeros([n[0]]), \"b0\")\n",
    "    mu[0] = x\n",
    "    for l in range(1,L+1):\n",
    "        b[l] = tf.Variable(tf.zeros([n[l]]), name=\"b%d\" % l)\n",
    "        c[l] = tf.Variable(tf.zeros([n[l-1]]), name=\"c%d\" % l)\n",
    "        a = 1.0/n[l-1]\n",
    "        W[l] = tf.Variable( tf.random_uniform([n[l-1], n[l]], -a, a) , name=\"W%d\" % l)\n",
    "        mu[l] = tf.sigmoid( tf.matmul(mu[l-1], W[l]) + b[l] )\n",
    "        theta[l] = tf.sigmoid( tf.matmul(mu[l], tf.transpose(W[l])) + c[l] )\n",
    "        Cost[l] = cost(theta[l], mu[l-1])\n",
    "    \n",
    "    sess.run(tf.global_variables_initializer())\n",
    "    opt = tf.train.GradientDescentOptimizer(alpha)\n",
    "    for l in range(1,L+1):\n",
    "        minimize = opt.minimize(Cost[l], var_list=(W[l], b[l], c[l]))\n",
    "        for i in range(NSTEPS):\n",
    "            sess.run(minimize, feed_dict={x: xdata})\n",
    "            \n",
    "    return W[1:], b[1:], c[1:], mu[L]"
   ]
  },
  {
   "cell_type": "code",
   "execution_count": 4,
   "metadata": {
    "collapsed": true
   },
   "outputs": [],
   "source": [
    "sess = tf.Session()"
   ]
  },
  {
   "cell_type": "code",
   "execution_count": 5,
   "metadata": {
    "collapsed": true
   },
   "outputs": [],
   "source": [
    "X = tf.placeholder(tf.float32, shape=[None, 28*28], name = \"X\")"
   ]
  },
  {
   "cell_type": "markdown",
   "metadata": {},
   "source": [
    "The next cell takes a long time to execute, even in a GPU.\n",
    "\n",
    "In addition, the layer sizes are default [28\\*28, 512, 128, 64]."
   ]
  },
  {
   "cell_type": "code",
   "execution_count": 6,
   "metadata": {
    "collapsed": true
   },
   "outputs": [],
   "source": [
    "W, b, c, mu = PreTrainGreedyAutoEncodingDeepNet(sess, X, mnist.train.images, 0.001)"
   ]
  },
  {
   "cell_type": "markdown",
   "metadata": {},
   "source": [
    "I saved the weights here so that one can later use it with restart from scratch."
   ]
  },
  {
   "cell_type": "code",
   "execution_count": 7,
   "metadata": {
    "collapsed": true
   },
   "outputs": [],
   "source": [
    "saver = tf.train.Saver(W + b + c)"
   ]
  },
  {
   "cell_type": "code",
   "execution_count": 8,
   "metadata": {},
   "outputs": [
    {
     "data": {
      "text/plain": [
       "'wbc'"
      ]
     },
     "execution_count": 8,
     "metadata": {},
     "output_type": "execute_result"
    }
   ],
   "source": [
    "saver.save(sess, \"wbc\")"
   ]
  },
  {
   "cell_type": "markdown",
   "metadata": {},
   "source": [
    "Put the weights together, so that I can use them as a deep autoencoder"
   ]
  },
  {
   "cell_type": "code",
   "execution_count": 10,
   "metadata": {},
   "outputs": [],
   "source": [
    "W2 = [tf.Variable(tf.transpose(x)) for x in W]\n",
    "sess.run(tf.variables_initializer(W2))\n",
    "W2.reverse()\n",
    "AllW = W + W2\n",
    "c.reverse()\n",
    "allB = b + c"
   ]
  },
  {
   "cell_type": "markdown",
   "metadata": {},
   "source": [
    "This is the deep autoencoder model. I could have fine tune it (you can even find the cost down below), but for now I just used it directly from the pre-training phase."
   ]
  },
  {
   "cell_type": "code",
   "execution_count": 11,
   "metadata": {
    "collapsed": true
   },
   "outputs": [],
   "source": [
    "def DeepModel(X, W, B):\n",
    "    res = X\n",
    "    for w, b in zip(W,B):\n",
    "        res = tf.sigmoid( tf.matmul(res, w) + b )\n",
    "    return res"
   ]
  },
  {
   "cell_type": "code",
   "execution_count": 13,
   "metadata": {},
   "outputs": [],
   "source": [
    "reconstruct = DeepModel(X, AllW, allB)"
   ]
  },
  {
   "cell_type": "markdown",
   "metadata": {},
   "source": [
    "And here I am testing it with a single image."
   ]
  },
  {
   "cell_type": "code",
   "execution_count": 18,
   "metadata": {},
   "outputs": [
    {
     "data": {
      "text/plain": [
       "<matplotlib.image.AxesImage at 0x7fcf310f9d90>"
      ]
     },
     "execution_count": 18,
     "metadata": {},
     "output_type": "execute_result"
    },
    {
     "data": {
      "image/png": "[encoded data removed]",
      "text/plain": [
       "<matplotlib.figure.Figure at 0x7fcf3117b650>"
      ]
     },
     "metadata": {},
     "output_type": "display_data"
    }
   ],
   "source": [
    "imshow((mnist.test.images[42]).reshape((28,28)), cmap=\"gray\")"
   ]
  },
  {
   "cell_type": "code",
   "execution_count": 17,
   "metadata": {
    "collapsed": true
   },
   "outputs": [],
   "source": [
    "res=sess.run(reconstruct, feed_dict={X:(mnist.test.images[42]).reshape((1,28*28))})"
   ]
  },
  {
   "cell_type": "code",
   "execution_count": 19,
   "metadata": {},
   "outputs": [
    {
     "data": {
      "text/plain": [
       "<matplotlib.image.AxesImage at 0x7fcf3102cf90>"
      ]
     },
     "execution_count": 19,
     "metadata": {},
     "output_type": "execute_result"
    },
    {
     "data": {
      "image/png": "[encoded data removed]",
      "text/plain": [
       "<matplotlib.figure.Figure at 0x7fcf310bc090>"
      ]
     },
     "metadata": {},
     "output_type": "display_data"
    }
   ],
   "source": [
    "imshow(res.reshape((28,28)), cmap=\"gray\")"
   ]
  },
  {
   "cell_type": "markdown",
   "metadata": {},
   "source": [
    "Let us see how PCA with 64 components compare with the deep model (remember that the deep model has a 64 component size)"
   ]
  },
  {
   "cell_type": "code",
   "execution_count": 20,
   "metadata": {
    "collapsed": true
   },
   "outputs": [],
   "source": [
    "from sklearn.decomposition import PCA"
   ]
  },
  {
   "cell_type": "code",
   "execution_count": 23,
   "metadata": {
    "collapsed": true
   },
   "outputs": [],
   "source": [
    "pca = PCA(n_components=64)"
   ]
  },
  {
   "cell_type": "code",
   "execution_count": 24,
   "metadata": {},
   "outputs": [
    {
     "data": {
      "text/plain": [
       "PCA(copy=True, iterated_power='auto', n_components=64, random_state=None,\n",
       "  svd_solver='auto', tol=0.0, whiten=False)"
      ]
     },
     "execution_count": 24,
     "metadata": {},
     "output_type": "execute_result"
    }
   ],
   "source": [
    "pca.fit(mnist.train.images)"
   ]
  },
  {
   "cell_type": "code",
   "execution_count": 25,
   "metadata": {},
   "outputs": [
    {
     "name": "stderr",
     "output_type": "stream",
     "text": [
      "/home/erocha/opt/tensorflow/local/lib/python2.7/site-packages/sklearn/utils/validation.py:395: DeprecationWarning: Passing 1d arrays as data is deprecated in 0.17 and will raise ValueError in 0.19. Reshape your data either using X.reshape(-1, 1) if your data has a single feature or X.reshape(1, -1) if it contains a single sample.\n",
      "  DeprecationWarning)\n"
     ]
    }
   ],
   "source": [
    "res = pca.inverse_transform(pca.transform(mnist.test.images[42]))"
   ]
  },
  {
   "cell_type": "code",
   "execution_count": 26,
   "metadata": {},
   "outputs": [
    {
     "data": {
      "text/plain": [
       "<matplotlib.image.AxesImage at 0x7fceee705590>"
      ]
     },
     "execution_count": 26,
     "metadata": {},
     "output_type": "execute_result"
    },
    {
     "data": {
      "image/png": "[encoded data removed]",
      "text/plain": [
       "<matplotlib.figure.Figure at 0x7fcef4052250>"
      ]
     },
     "metadata": {},
     "output_type": "display_data"
    }
   ],
   "source": [
    "imshow(res.reshape((28,28)), cmap=\"gray\")"
   ]
  },
  {
   "cell_type": "markdown",
   "metadata": {
    "collapsed": true
   },
   "source": [
    "The result is not bad. It takes much longer to train, but I didn't even fined tuned so it could have been better.\n",
    "\n",
    "Below you see the cost that can be used to do the fine tunning."
   ]
  },
  {
   "cell_type": "code",
   "execution_count": null,
   "metadata": {
    "collapsed": true
   },
   "outputs": [],
   "source": [
    "C = cosComplexWarningmplexWarningreconstruct, X)"
   ]
  }
 ],
 "metadata": {
  "kernelspec": {
   "display_name": "Python 2",
   "language": "python",
   "name": "python2"
  },
  "language_info": {
   "codemirror_mode": {
    "name": "ipython",
    "version": 2
   },
   "file_extension": ".py",
   "mimetype": "text/x-python",
   "name": "python",
   "nbconvert_exporter": "python",
   "pygments_lexer": "ipython2",
   "version": "2.7.12"
  }
 },
 "nbformat": 4,
 "nbformat_minor": 2
}
